{
  "cells": [
    {
      "cell_type": "markdown",
      "metadata": {
        "colab_type": "text",
        "id": "view-in-github"
      },
      "source": [
        "<a href=\"https://colab.research.google.com/github/archipelcitoyen/TAS_2026/blob/main/TAS_INSEE.ipynb\" target=\"_parent\"><img src=\"https://colab.research.google.com/assets/colab-badge.svg\" alt=\"Open In Colab\"/></a>"
      ]
    },
    {
      "cell_type": "markdown",
      "metadata": {},
      "source": [
        "## ANALYSE DES CARREAUX INSEE 2019 POUR LE CIBLAGE DU PORTE-À-PORTE - MUNICIPALES TOULOUSE 2026 - ARCHIPEL CITOYEN"
      ]
    },
    {
      "cell_type": "code",
      "execution_count": null,
      "metadata": {
        "id": "n1LOrbDKbi1L"
      },
      "outputs": [],
      "source": [
        "import geopandas as gpd\n",
        "import pandas as pd\n",
        "import numpy as np\n",
        "import matplotlib.pyplot as plt\n",
        "#import requests\n",
        "import zipfile\n",
        "#import io\n",
        "import os\n",
        "import fiona\n",
        "import random\n",
        "from urllib.request import urlretrieve\n",
        "from shapely.geometry import box, Point\n",
        "#import urllib.request\n",
        "import geopandas as gpd\n",
        "import folium\n",
        "from folium import Choropleth, LayerControl\n",
        "import branca.colormap as cm"
      ]
    },
    {
      "cell_type": "code",
      "execution_count": 2,
      "metadata": {},
      "outputs": [],
      "source": [
        "# Configuration\n",
        "DATA_DIR = \"data\"\n",
        "os.makedirs(DATA_DIR, exist_ok=True)"
      ]
    },
    {
      "cell_type": "code",
      "execution_count": null,
      "metadata": {},
      "outputs": [],
      "source": [
        "def telecharger_donnees_insee():\n",
        "    \"\"\"Télécharge les données carroyées de l'INSEE à 200m\"\"\"\n",
        "    \n",
        "    print(\"Téléchargement des données carroyées INSEE 200m...\")\n",
        "    \n",
        "    # URL de téléchargement des données carroyées 200m les plus récentes (2019)\n",
        "    url_carreaux = \"https://www.insee.fr/fr/statistiques/fichier/7655475/Filosofi2019_carreaux_200m_gpkg.zip\"\n",
        "\n",
        "    # Chemin local pour sauvegarder le fichier zip\n",
        "    zip_path = os.path.join(DATA_DIR, \"Filosofi2019_carreaux_200m_gpkg.zip\")\n",
        "    \n",
        "    # Télécharger le fichier\n",
        "    urlretrieve(url_carreaux, zip_path)\n",
        "    \n",
        "    # Extraire le contenu du zip\n",
        "    with zipfile.ZipFile(zip_path, 'r') as zip_ref:\n",
        "        zip_ref.extractall(DATA_DIR)\n",
        "    \n",
        "    print(\"Téléchargement et extraction terminés.\")\n",
        "\n",
        "def charger_donnees_insee_local(chemin_geopackage):\n",
        "    \"\"\"Charge les données carroyées de l'INSEE à partir d'un fichier geopackage local\"\"\"\n",
        "    \n",
        "    print(f\"Chargement des données carroyées INSEE 200m depuis le fichier local : {chemin_geopackage}\")\n",
        "    \n",
        "    # Vérification que le fichier existe\n",
        "    if not os.path.exists(chemin_geopackage):\n",
        "        raise FileNotFoundError(f\"Le fichier {chemin_geopackage} n'existe pas.\")\n",
        "    \n",
        "    # Chargement du geopackage\n",
        "    try:\n",
        "        # Lister les couches disponibles dans le geopackage\n",
        "        layers = fiona.listlayers(chemin_geopackage)\n",
        "        print(f\"Couches disponibles dans le geopackage : {layers}\")\n",
        "        \n",
        "        # Charger la première couche (ou spécifier le nom si connu)\n",
        "        layer_name = layers[0]\n",
        "        carreaux_gdf = gpd.read_file(chemin_geopackage, layer=layer_name)\n",
        "        \n",
        "        print(f\"Données chargées avec succès. {len(carreaux_gdf)} carreaux trouvés.\")\n",
        "        print(f\"CRS des données : {carreaux_gdf.crs}\")\n",
        "        print(f\"Colonnes disponibles : {carreaux_gdf.columns.tolist()}\")\n",
        "        \n",
        "        return carreaux_gdf\n",
        "    \n",
        "    except Exception as e:\n",
        "        print(f\"Erreur lors du chargement du geopackage : {e}\")\n",
        "        raise"
      ]
    },
    {
      "cell_type": "code",
      "execution_count": null,
      "metadata": {},
      "outputs": [],
      "source": [
        "def decouper_carreaux_toulouse(carreaux_gdf, toulouse_gdf):\n",
        "    \"\"\"Découpe les carreaux selon les limites de Toulouse\"\"\"\n",
        "    print(\"Découpage des carreaux selon les limites de Toulouse...\")\n",
        "    # Reprojection des limites de Toulouse dans le même CRS que les carreaux\n",
        "    toulouse_reproj = toulouse_gdf.to_crs(carreaux_gdf.crs)\n",
        "    # Découpage des carreaux selon les limites de Toulouse\n",
        "    carreaux_toulouse = gpd.sjoin(carreaux_gdf, toulouse_reproj, how=\"inner\", predicate=\"intersects\")\n",
        "    # Sauvegarde des carreaux de Toulouse\n",
        "    carreaux_toulouse_path = os.path.join(DATA_DIR, \"carreaux_toulouse.gpkg\")\n",
        "    carreaux_toulouse.to_file(carreaux_toulouse_path, driver=\"GPKG\")\n",
        "    print(f\"Données carroyées découpées. {len(carreaux_toulouse)} carreaux trouvés pour Toulouse.\")\n",
        "    return carreaux_toulouse\n",
        "\n",
        "def calculer_indicateurs(carreaux):\n",
        "    \"\"\"\n",
        "    Calcule les indicateurs de précarité pour chaque carreau.\n",
        "    \"\"\"\n",
        "\n",
        "    # Pourcentage de ménages pauvres\n",
        "    if 'men_pauv' in carreaux.columns and 'men' in carreaux.columns:\n",
        "        carreaux['pct_men_pauvres'] = (carreaux['men_pauv'] / carreaux['men']) * 100\n",
        "    else:\n",
        "        carreaux['pct_men_pauvres'] = np.nan\n",
        "\n",
        "    # Pourcentage de familles monoparentales\n",
        "    if 'men_fmp' in carreaux.columns and 'men' in carreaux.columns:\n",
        "        carreaux['pct_men_monoparentales'] = (carreaux['men_fmp'] / carreaux['men']) * 100\n",
        "    else:\n",
        "        carreaux['pct_men_monoparentales'] = np.nan\n",
        "\n",
        "    # Pourcentage de jeunes adultes\n",
        "    if 'ind_18_24' in carreaux.columns and 'ind' in carreaux.columns:\n",
        "        carreaux['pct_ind_18_24'] = (carreaux['ind_18_24'] / carreaux['ind']) * 100\n",
        "    else:\n",
        "        carreaux['pct_ind_18_24'] = np.nan\n",
        "\n",
        "    # Pourcentage de logement social\n",
        "    if 'log_soc' in carreaux.columns and 'men' in carreaux.columns:\n",
        "        carreaux['pct_log_soc'] = (carreaux['log_soc'] / (carreaux['log_av45'] + carreaux['log_45_70'] + carreaux['log_70_90'] + carreaux['log_ap90'] + carreaux['log_inc'])) * 100\n",
        "    else:\n",
        "        carreaux['pct_log_soc'] = np.nan\n",
        "\n",
        "    # Pourcentage de ménages en logements collectifs\n",
        "    if 'men_coll' in carreaux.columns and 'men' in carreaux.columns:\n",
        "        carreaux['pct_men_coll'] = (carreaux['men_coll'] / carreaux['men']) * 100\n",
        "    else:\n",
        "        carreaux['pct_men_coll'] = np.nan\n",
        "\n",
        "    # Pourcentage de locataires\n",
        "    if 'men_prop' in carreaux.columns and 'men' in carreaux.columns:\n",
        "        carreaux['pct_locataires'] = (1 - carreaux['men_prop'] / carreaux['men']) * 100\n",
        "    else:\n",
        "        carreaux['pct_locataires'] = np.nan\n",
        "\n",
        "    return carreaux\n",
        "\n",
        "def normaliser_indicateurs(carreaux):\n",
        "    \"\"\"\n",
        "    Normalise les indicateurs de précarité pour chaque carreau.\n",
        "    \"\"\"\n",
        "    def normaliser(serie):\n",
        "        min_val = serie.min()\n",
        "        max_val = serie.max()\n",
        "        if pd.notnull(min_val) and pd.notnull(max_val) and max_val > min_val:\n",
        "            return (serie - min_val) / (max_val - min_val)\n",
        "        else:\n",
        "            return pd.Series([0] * len(serie), index=serie.index)\n",
        "\n",
        "    # Normalisation\n",
        "    carreaux['norm_pct_men_pauvres'] = normaliser(carreaux['pct_men_pauvres'])\n",
        "    carreaux['norm_pct_men_monoparentales'] = normaliser(carreaux['pct_men_monoparentales'])\n",
        "    carreaux['norm_pct_ind_18_24'] = normaliser(carreaux['pct_ind_18_24'])\n",
        "    carreaux['norm_pct_log_soc'] = normaliser(carreaux['pct_log_soc'])\n",
        "    carreaux['norm_pct_men_coll'] = normaliser(carreaux['pct_men_coll'])\n",
        "    carreaux['norm_pct_locataires'] = normaliser(carreaux['pct_locataires'])\n",
        "    #carreaux['norm_revenu_moyen'] = 1 - normaliser(carreaux['revenu_moyen'])  # Inversion car revenu élevé = moins de précarité\n",
        "    #carreaux['norm_pct_bas_revenus'] = normaliser(carreaux['pct_bas_revenus'])\n",
        "    return carreaux\n",
        "\n",
        "\n",
        "def calculer_indicateur_composite(carreaux):\n",
        "    \"\"\"\n",
        "    Calcule l'indicateur composite d'invisibilisation pour chaque carreau.\n",
        "    \"\"\"\n",
        "    # Pondérations\n",
        "    poids_bruts = {\n",
        "        'norm_pct_men_pauvres': 3,\n",
        "        'norm_pct_men_monoparentales': 2,\n",
        "        'norm_pct_ind_18_24': 1,\n",
        "        'norm_pct_log_soc': 1,\n",
        "        'norm_pct_men_coll': 1,\n",
        "        'norm_pct_locataires': 1\n",
        "    }\n",
        "    somme_poids = sum(poids_bruts.values())\n",
        "    poids = {variable: poids / somme_poids for variable, poids in poids_bruts.items()}\n",
        "\n",
        "    # Calcul de l'indicateur composite\n",
        "    indicateur = pd.Series(0, index=carreaux.index, dtype=float)\n",
        "    poids_total = 0\n",
        "\n",
        "    for indicateur_nom, p in poids.items():\n",
        "        if indicateur_nom in carreaux.columns and not carreaux[indicateur_nom].isnull().all():\n",
        "            indicateur += p * carreaux[indicateur_nom]\n",
        "            poids_total += p\n",
        "\n",
        "    if poids_total > 0:\n",
        "        carreaux['indicateur_invisibilisation'] = indicateur / poids_total\n",
        "    else:\n",
        "        carreaux['indicateur_invisibilisation'] = 0\n",
        "\n",
        "    return carreaux\n",
        "\n",
        "def filtrer_carreaux(carreaux, seuil_population=20):\n",
        "    \"\"\"\n",
        "    Filtre les carreaux ayant une population inférieure au seuil spécifié.\n",
        "    \"\"\"\n",
        "    if 'ind' in carreaux.columns:\n",
        "        return carreaux[carreaux['ind'] >= seuil_population]\n",
        "    else:\n",
        "        return carreaux\n",
        "\n",
        "def random_point_in_polygon(polygon):\n",
        "    min_x, min_y, max_x, max_y = polygon.bounds\n",
        "    while True:\n",
        "        point = Point(random.uniform(min_x, max_x), random.uniform(min_y, max_y))\n",
        "        if polygon.contains(point):\n",
        "            return point"
      ]
    },
    {
      "cell_type": "code",
      "execution_count": null,
      "metadata": {},
      "outputs": [],
      "source": [
        "telecharger_donnees_insee()\n",
        "chemin_geopackage = os.path.join(DATA_DIR, \"Filosofi2019_carreaux_200m_gpkg\",\"carreaux_200m_met.gpkg\")\n",
        "carreaux_gdf = charger_donnees_insee_local(chemin_geopackage)\n",
        "carreaux_toulouse = decouper_carreaux_toulouse(carreaux_gdf, toulouse_gdf)"
      ]
    },
    {
      "cell_type": "code",
      "execution_count": null,
      "metadata": {},
      "outputs": [
        {
          "name": "stdout",
          "output_type": "stream",
          "text": [
            "Calcul de l'indicateur d'invisibilisation...\n"
          ]
        }
      ],
      "source": [
        "gdf = gpd.read_file(os.path.join(DATA_DIR, \"carreaux_toulouse.gpkg\"))\n",
        "print(\"Calcul de l'indicateur d'invisibilisation...\")\n",
        "gdf = calculer_indicateurs(gdf)\n",
        "gdf = normaliser_indicateurs(gdf)\n",
        "gdf = calculer_indicateur_composite(gdf)\n",
        "gdf = filtrer_carreaux(gdf)\n",
        "#gdf.to_file(chemin_fichier, driver=\"GPKG\")\n"
      ]
    },
    {
      "cell_type": "code",
      "execution_count": 7,
      "metadata": {},
      "outputs": [
        {
          "data": {
            "text/plain": [
              "<Axes: >"
            ]
          },
          "execution_count": 7,
          "metadata": {},
          "output_type": "execute_result"
        },
        {
          "data": {
            "image/png": "[encoded data removed]",
            "text/plain": [
              "<Figure size 640x480 with 1 Axes>"
            ]
          },
          "metadata": {},
          "output_type": "display_data"
        }
      ],
      "source": [
        "gdf['indicateur_invisibilisation'].hist()"
      ]
    },
    {
      "cell_type": "code",
      "execution_count": 8,
      "metadata": {},
      "outputs": [
        {
          "name": "stdout",
          "output_type": "stream",
          "text": [
            "110\n"
          ]
        }
      ],
      "source": [
        "# Filtrer les carreaux avec un indicateur de précarité supérieur ou égal à 0.75\n",
        "seuil = 0.5\n",
        "gdf_invisibilise = gdf[gdf['indicateur_invisibilisation'] >= seuil].copy()\n",
        "print(len(gdf_invisibilise))"
      ]
    },
    {
      "cell_type": "code",
      "execution_count": 9,
      "metadata": {},
      "outputs": [
        {
          "name": "stdout",
          "output_type": "stream",
          "text": [
            "10\n"
          ]
        }
      ],
      "source": [
        "gdf_sample = gdf_invisibilise.sample(n=10, random_state=42).copy()\n",
        "print(len(gdf_sample))"
      ]
    },
    {
      "cell_type": "code",
      "execution_count": 15,
      "metadata": {},
      "outputs": [],
      "source": [
        "gdf_sample['random_point'] = gdf_sample.geometry.apply(random_point_in_polygon)\n",
        "gdf_sample['random_point'] = gdf_sample['random_point'].to_crs(epsg=4326)"
      ]
    },
    {
      "cell_type": "code",
      "execution_count": null,
      "metadata": {},
      "outputs": [],
      "source": [
        "from folium import FeatureGroup, GeoJson, Marker, Icon\n",
        "\n",
        "# Vérifier et définir la projection si nécessaire\n",
        "if gdf.crs is None:\n",
        "    gdf.set_crs(epsg=2154, inplace=True)  # Lambert-93, projection courante en France\n",
        "\n",
        "m = folium.Map(location=[43.6045, 1.4442], zoom_start=12, tiles=None)\n",
        "folium.TileLayer(\n",
        "    tiles='CartoDB positron',\n",
        "    name='Fond de carte',\n",
        "    control=False\n",
        ").add_to(m)\n",
        "\n",
        "colormap = cm.linear.YlOrRd_09.scale(0, 1)\n",
        "colormap.caption = 'Indicateur normalisé'\n",
        "colormap.add_to(m)\n",
        "\n",
        "# Chargement des données\n",
        "gdf = gpd.read_file(chemin_fichier) #gpd.read_file(\"carreaux_toulouse_precarite.gpkg\")\n",
        "\n",
        "# Liste des variables à visualiser\n",
        "variables = {\n",
        "    \"Ménages pauvres\": 'norm_pct_men_pauvres',\n",
        "    \"Familles monoparentales\": 'norm_pct_men_monoparentales',\n",
        "    \"Individus entre 18 et 24 ans\": 'norm_pct_ind_18_24',\n",
        "    \"Logements sociaux\": 'norm_pct_log_soc',\n",
        "    \"Ménages en logements collectifs\": 'norm_pct_men_coll',\n",
        "    \"Taux de locataires\": 'norm_pct_locataires',\n",
        "    \"➡️ Indicateur d'invisibilisation\": \"indicateur_invisibilisation\"\n",
        "}\n",
        "\n",
        "for nom_couche, colonne in variables.items():\n",
        "    fg = folium.FeatureGroup(name=nom_couche, show=(colonne == \"indicateur_invisibilisation\"))\n",
        "    folium.GeoJson(\n",
        "        gdf,\n",
        "        style_function=lambda feature, col=colonne: {\n",
        "            'fillColor': colormap(feature['properties'][col]) if feature['properties'][col] is not None else '#gray',\n",
        "            'color': 'black',\n",
        "            'weight': 0.5,\n",
        "            'fillOpacity': 0.7\n",
        "        },\n",
        "        tooltip=folium.GeoJsonTooltip(fields=[colonne], aliases=[nom_couche])\n",
        "    ).add_to(fg)\n",
        "    fg.add_to(m)\n",
        "\n",
        "# Couche des carreaux sélectionnés\n",
        "fg_precaires = FeatureGroup(name=\"✅ Carreaux ciblés\", show=False)\n",
        "GeoJson(\n",
        "    gdf_invisibilise,\n",
        "    style_function=lambda feature: {\n",
        "        'fillColor': 'green',\n",
        "        'color': 'black',\n",
        "        'weight': 0.5,\n",
        "        'fillOpacity': 0.7\n",
        "    },\n",
        "    tooltip=folium.GeoJsonTooltip(fields=['indicateur_invisibilisation'], aliases=[\"Indicateur d'invibilisation\"])\n",
        ").add_to(fg_precaires)\n",
        "fg_precaires.add_to(m)\n",
        "\n",
        "# Couche des points aléatoires\n",
        "fg_points = FeatureGroup(name=\"🎯 Points tirés au sort\", show=True)\n",
        "for idx, row in gdf_sample.iterrows():\n",
        "    lon, lat = row['random_point'].x, row['random_point'].y\n",
        "    folium.Marker(\n",
        "        location=[lat, lon],\n",
        "        icon=folium.Icon(color='orange', icon='bullseye', prefix='fa'),\n",
        "        popup=f\"Point tiré au sort\"\n",
        "    ).add_to(fg_points)\n",
        "fg_points.add_to(m)\n",
        "\n",
        "folium.LayerControl(collapsed=False).add_to(m)\n",
        "m.save(\"carte_invisibilisation_toulouse.html\")\n"
      ]
    }
  ],
  "metadata": {
    "colab": {
      "authorship_tag": "ABX9TyP+Z/mSVaRJW9MaQwmx9hEr",
      "include_colab_link": true,
      "provenance": []
    },
    "kernelspec": {
      "display_name": "tirage",
      "language": "python",
      "name": "python3"
    },
    "language_info": {
      "codemirror_mode": {
        "name": "ipython",
        "version": 3
      },
      "file_extension": ".py",
      "mimetype": "text/x-python",
      "name": "python",
      "nbconvert_exporter": "python",
      "pygments_lexer": "ipython3",
      "version": "3.12.5"
    }
  },
  "nbformat": 4,
  "nbformat_minor": 0
}
