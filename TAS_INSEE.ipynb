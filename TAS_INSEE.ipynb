{
  "nbformat": 4,
  "nbformat_minor": 0,
  "metadata": {
    "colab": {
      "provenance": [],
      "authorship_tag": "ABX9TyP+Z/mSVaRJW9MaQwmx9hEr",
      "include_colab_link": true
    },
    "kernelspec": {
      "name": "python3",
      "display_name": "Python 3"
    },
    "language_info": {
      "name": "python"
    }
  },
  "cells": [
    {
      "cell_type": "markdown",
      "metadata": {
        "id": "view-in-github",
        "colab_type": "text"
      },
      "source": [
        "<a href=\"https://colab.research.google.com/github/archipelcitoyen/TAS_2026/blob/main/TAS_INSEE.ipynb\" target=\"_parent\"><img src=\"https://colab.research.google.com/assets/colab-badge.svg\" alt=\"Open In Colab\"/></a>"
      ]
    },
    {
      "cell_type": "code",
      "execution_count": null,
      "metadata": {
        "id": "n1LOrbDKbi1L"
      },
      "outputs": [],
      "source": [
        "import geopandas\n",
        "import matplotlib.pyplot as plt\n",
        "\n",
        "# Remplacez 'path/to/votre/fichier.gpkg' par le chemin réel de votre fichier GeoPackage\n",
        "gdf = geopandas.read_file('path/to/votre/fichier.gpkg')\n",
        "\n",
        "# Remplacez 'REVENU_MOYEN' par le nom de la colonne contenant le revenu moyen et\n",
        "# 10000 par le seuil de revenu souhaité\n",
        "gdf_filtered = gdf[gdf['REVENU_MOYEN'] < 10000]\n",
        "\n",
        "# Sélectionnez un carreau au hasard\n",
        "random_square = gdf_filtered.sample(1)\n",
        "\n",
        "# Générez un point aléatoire à l'intérieur du carreau sélectionné\n",
        "random_point = random_square.geometry.sample_points(1)\n",
        "\n",
        "# Afficher le résultat (optionnel)\n",
        "ax = gdf_filtered.plot()\n",
        "random_square.plot(ax=ax, color='red')\n",
        "plt.plot(random_point.x, random_point.y, marker='o', color='green')\n",
        "plt.show()\n",
        "\n",
        "# Les coordonnées du point aléatoire\n",
        "print(f\"Coordonnées du point aléatoire : {random_point.x.values[0]:.6f}, {random_point.y.values[0]:.6f}\")"
      ]
    }
  ]
}