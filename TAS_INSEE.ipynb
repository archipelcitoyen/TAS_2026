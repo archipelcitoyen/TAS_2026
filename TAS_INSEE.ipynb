{
  "cells": [
    {
      "cell_type": "markdown",
      "metadata": {
        "colab_type": "text",
        "id": "view-in-github"
      },
      "source": [
        "<a href=\"https://colab.research.google.com/github/archipelcitoyen/TAS_2026/blob/main/TAS_INSEE.ipynb\" target=\"_parent\"><img src=\"https://colab.research.google.com/assets/colab-badge.svg\" alt=\"Open In Colab\"/></a>"
      ]
    },
    {
      "cell_type": "markdown",
      "metadata": {},
      "source": [
        "## ANALYSE DES CARREAUX INSEE 2019 POUR LE CIBLAGE DU PORTE-À-PORTE - MUNICIPALES TOULOUSE 2026 - ARCHIPEL CITOYEN"
      ]
    },
    {
      "cell_type": "code",
      "execution_count": 18,
      "metadata": {
        "id": "n1LOrbDKbi1L"
      },
      "outputs": [],
      "source": [
        "import geopandas as gpd\n",
        "import os\n",
        "import folium\n",
        "from folium import FeatureGroup, GeoJson\n",
        "import branca.colormap as cm\n",
        "from insee import *"
      ]
    },
    {
      "cell_type": "code",
      "execution_count": 19,
      "metadata": {},
      "outputs": [],
      "source": [
        "# Configuration\n",
        "DATA_DIR = \"data\"\n",
        "os.makedirs(DATA_DIR, exist_ok=True)"
      ]
    },
    {
      "cell_type": "code",
      "execution_count": 20,
      "metadata": {},
      "outputs": [
        {
          "name": "stdout",
          "output_type": "stream",
          "text": [
            "✅ Le fichier data/carreaux_toulouse.gpkg existe déjà, on le charge.\n"
          ]
        }
      ],
      "source": [
        "filename_toulouse = os.path.join(DATA_DIR, \"carreaux_toulouse.gpkg\")\n",
        "if os.path.exists(filename_toulouse):\n",
        "    print(f\"✅ Le fichier {filename_toulouse} existe déjà, on le charge.\")\n",
        "else:\n",
        "    print(\"🔄 Le fichier n'existe pas, exécution de la fonction.\")\n",
        "    telecharger_donnees_insee(DATA_DIR)\n",
        "    carreaux_gdf = charger_donnees_insee_local(os.path.join(DATA_DIR, \"Filosofi2019_carreaux_200m_gpkg\",\"carreaux_200m_met.gpkg\"))\n",
        "    #carreaux_toulouse = decouper_carreaux_toulouse(carreaux_gdf, toulouse_gdf)\n",
        "    carreaux_toulouse = carreaux_gdf[carreaux_gdf['lcog_geo'] == '31555']\n",
        "    carreaux_toulouse.to_file(filename_toulouse, driver=\"GPKG\")\n"
      ]
    },
    {
      "cell_type": "code",
      "execution_count": 21,
      "metadata": {},
      "outputs": [
        {
          "name": "stdout",
          "output_type": "stream",
          "text": [
            "Calcul de l'indicateur d'invisibilisation...\n"
          ]
        },
        {
          "data": {
            "text/plain": [
              "<Axes: >"
            ]
          },
          "execution_count": 21,
          "metadata": {},
          "output_type": "execute_result"
        },
        {
          "data": {
            "image/png": "[encoded data removed]",
            "text/plain": [
              "<Figure size 640x480 with 1 Axes>"
            ]
          },
          "metadata": {},
          "output_type": "display_data"
        }
      ],
      "source": [
        "gdf = gpd.read_file(filename_toulouse)\n",
        "print(\"Calcul de l'indicateur d'invisibilisation...\")\n",
        "gdf = calculer_indicateurs(gdf)\n",
        "gdf = normaliser_indicateurs(gdf)\n",
        "gdf = calculer_indicateur_composite(gdf)\n",
        "gdf = filtrer_carreaux(gdf)\n",
        "#gdf.to_file(chemin_fichier, driver=\"GPKG\")\n",
        "gdf['indicateur_invisibilisation'].hist()\n"
      ]
    },
    {
      "cell_type": "code",
      "execution_count": 26,
      "metadata": {},
      "outputs": [],
      "source": [
        "# Filtrer les carreaux avec un indicateur de précarité supérieur ou égal à `seuil`\n",
        "seuil = 0.5\n",
        "nb_de_point_TAS = 15\n",
        "gdf_invisibilise = gdf[gdf['indicateur_invisibilisation'] >= seuil].copy()\n",
        "gdf_sample = gdf_invisibilise.sample(n=nb_de_point_TAS, random_state=42).copy()\n",
        "gdf_sample['random_point'] = gdf_sample.geometry.apply(random_point_in_polygon)\n",
        "gdf_sample['random_point'] = gdf_sample['random_point'].to_crs(epsg=4326)"
      ]
    },
    {
      "cell_type": "code",
      "execution_count": 27,
      "metadata": {},
      "outputs": [],
      "source": [
        "# Vérifier et définir la projection si nécessaire\n",
        "if gdf.crs is None:\n",
        "    gdf.set_crs(epsg=2154, inplace=True)  # Lambert-93, projection courante en France\n",
        "\n",
        "m = folium.Map(location=[43.6045, 1.4442], zoom_start=12, tiles=None)\n",
        "folium.TileLayer(\n",
        "    tiles='CartoDB positron',\n",
        "    name='Fond de carte',\n",
        "    control=False\n",
        ").add_to(m)\n",
        "\n",
        "colormap = cm.linear.YlOrRd_09.scale(0, 1)\n",
        "colormap.caption = 'Indicateur normalisé'\n",
        "colormap.add_to(m)\n",
        "\n",
        "# Liste des variables à visualiser\n",
        "variables = {\n",
        "    \"Ménages pauvres\": 'norm_pct_men_pauvres',\n",
        "    \"Familles monoparentales\": 'norm_pct_men_monoparentales',\n",
        "    \"Individus entre 18 et 24 ans\": 'norm_pct_ind_18_24',\n",
        "    \"Logements sociaux\": 'norm_pct_log_soc',\n",
        "    \"Ménages en logements collectifs\": 'norm_pct_men_coll',\n",
        "    \"Taux de locataires\": 'norm_pct_locataires',\n",
        "    \"➡️ Indicateur d'invisibilisation\": \"indicateur_invisibilisation\"\n",
        "}\n",
        "\n",
        "for nom_couche, colonne in variables.items():\n",
        "    fg = folium.FeatureGroup(name=nom_couche, show=(colonne == \"indicateur_invisibilisation\"))\n",
        "    folium.GeoJson(\n",
        "        gdf,\n",
        "        style_function=lambda feature, col=colonne: {\n",
        "            'fillColor': colormap(feature['properties'][col]) if feature['properties'][col] is not None else '#gray',\n",
        "            'color': 'black',\n",
        "            'weight': 0.5,\n",
        "            'fillOpacity': 0.7\n",
        "        },\n",
        "        tooltip=folium.GeoJsonTooltip(fields=[colonne], aliases=[nom_couche])\n",
        "    ).add_to(fg)\n",
        "    fg.add_to(m)\n",
        "\n",
        "# Couche des carreaux sélectionnés\n",
        "fg_precaires = FeatureGroup(name=\"✅ Carreaux ciblés\", show=False)\n",
        "GeoJson(\n",
        "    gdf_invisibilise,\n",
        "    style_function=lambda feature: {\n",
        "        'fillColor': 'green',\n",
        "        'color': 'black',\n",
        "        'weight': 0.5,\n",
        "        'fillOpacity': 0.7\n",
        "    },\n",
        "    tooltip=folium.GeoJsonTooltip(fields=['indicateur_invisibilisation'], aliases=[\"Indicateur d'invibilisation\"])\n",
        ").add_to(fg_precaires)\n",
        "fg_precaires.add_to(m)\n",
        "\n",
        "# Couche des points aléatoires\n",
        "fg_points = FeatureGroup(name=\"🎯 Points tirés au sort\", show=True)\n",
        "for idx, row in gdf_sample.iterrows():\n",
        "    lon, lat = row['random_point'].x, row['random_point'].y\n",
        "    folium.Marker(\n",
        "        location=[lat, lon],\n",
        "        icon=folium.Icon(color='orange', icon='bullseye', prefix='fa'),\n",
        "        popup=f\"Point tiré au sort\"\n",
        "    ).add_to(fg_points)\n",
        "fg_points.add_to(m)\n",
        "\n",
        "folium.LayerControl(collapsed=False).add_to(m)\n",
        "m.save(\"carte_invisibilisation_toulouse.html\")"
      ]
    },
    {
      "cell_type": "code",
      "execution_count": 28,
      "metadata": {},
      "outputs": [
        {
          "name": "stdout",
          "output_type": "stream",
          "text": [
            "938     POINT (1.41484 43.59465)\n",
            "230     POINT (1.46627 43.56526)\n",
            "149     POINT (1.50106 43.56392)\n",
            "1169    POINT (1.46956 43.60847)\n",
            "624      POINT (1.39885 43.5811)\n",
            "630     POINT (1.41745 43.58263)\n",
            "409     POINT (1.47154 43.57648)\n",
            "506     POINT (1.43296 43.57725)\n",
            "1437     POINT (1.44309 43.6188)\n",
            "236     POINT (1.50503 43.56923)\n",
            "977     POINT (1.39535 43.59526)\n",
            "979     POINT (1.40008 43.59515)\n",
            "83      POINT (1.50076 43.55834)\n",
            "981     POINT (1.40488 43.59544)\n",
            "284     POINT (1.40495 43.56398)\n",
            "Name: random_point, dtype: geometry\n"
          ]
        }
      ],
      "source": [
        "print(gdf_sample['random_point'] )"
      ]
    },
    {
      "cell_type": "code",
      "execution_count": null,
      "metadata": {},
      "outputs": [],
      "source": []
    }
  ],
  "metadata": {
    "colab": {
      "authorship_tag": "ABX9TyP+Z/mSVaRJW9MaQwmx9hEr",
      "include_colab_link": true,
      "provenance": []
    },
    "kernelspec": {
      "display_name": "tirage",
      "language": "python",
      "name": "python3"
    },
    "language_info": {
      "codemirror_mode": {
        "name": "ipython",
        "version": 3
      },
      "file_extension": ".py",
      "mimetype": "text/x-python",
      "name": "python",
      "nbconvert_exporter": "python",
      "pygments_lexer": "ipython3",
      "version": "3.12.5"
    }
  },
  "nbformat": 4,
  "nbformat_minor": 0
}
